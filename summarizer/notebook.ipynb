{
 "cells": [
  {
   "cell_type": "code",
   "execution_count": 3,
   "metadata": {},
   "outputs": [
    {
     "name": "stdout",
     "output_type": "stream",
     "text": [
      "Requirement already satisfied: transformers from git+https://github.com/huggingface/transformers@d6de6423#egg=transformers in /usr/local/lib/python3.7/site-packages (2.5.1)\n",
      "Requirement already satisfied: numpy in /usr/local/lib/python3.7/site-packages (from transformers) (1.17.2)\n",
      "Requirement already satisfied: tokenizers==0.5.2 in /usr/local/lib/python3.7/site-packages (from transformers) (0.5.2)\n",
      "Requirement already satisfied: filelock in /usr/local/lib/python3.7/site-packages (from transformers) (3.0.12)\n",
      "Requirement already satisfied: tqdm>=4.27 in /usr/local/lib/python3.7/site-packages (from transformers) (4.36.1)\n",
      "Requirement already satisfied: requests in /usr/local/lib/python3.7/site-packages (from transformers) (2.21.0)\n",
      "Requirement already satisfied: sacremoses in /usr/local/lib/python3.7/site-packages (from transformers) (0.0.38)\n",
      "Requirement already satisfied: regex!=2019.12.17 in /usr/local/lib/python3.7/site-packages (from transformers) (2020.2.20)\n",
      "Requirement already satisfied: sentencepiece in /usr/local/lib/python3.7/site-packages (from transformers) (0.1.85)\n",
      "Requirement already satisfied: boto3 in /usr/local/lib/python3.7/site-packages (from transformers) (1.10.2)\n",
      "Requirement already satisfied: chardet<3.1.0,>=3.0.2 in /Users/i845622/Library/Python/3.7/lib/python/site-packages (from requests->transformers) (3.0.4)\n",
      "Requirement already satisfied: idna<2.9,>=2.5 in /Users/i845622/Library/Python/3.7/lib/python/site-packages (from requests->transformers) (2.8)\n",
      "Requirement already satisfied: certifi>=2017.4.17 in /usr/local/lib/python3.7/site-packages (from requests->transformers) (2019.9.11)\n",
      "Requirement already satisfied: urllib3<1.25,>=1.21.1 in /usr/local/lib/python3.7/site-packages (from requests->transformers) (1.24.3)\n",
      "Requirement already satisfied: six in /usr/local/lib/python3.7/site-packages (from sacremoses->transformers) (1.12.0)\n",
      "Requirement already satisfied: joblib in /usr/local/lib/python3.7/site-packages (from sacremoses->transformers) (0.14.0)\n",
      "Requirement already satisfied: click in /usr/local/lib/python3.7/site-packages (from sacremoses->transformers) (7.0)\n",
      "Requirement already satisfied: jmespath<1.0.0,>=0.7.1 in /Users/i845622/Library/Python/3.7/lib/python/site-packages (from boto3->transformers) (0.9.3)\n",
      "Requirement already satisfied: botocore<1.14.0,>=1.13.2 in /usr/local/lib/python3.7/site-packages (from boto3->transformers) (1.13.50)\n",
      "Requirement already satisfied: s3transfer<0.3.0,>=0.2.0 in /usr/local/lib/python3.7/site-packages (from boto3->transformers) (0.2.1)\n",
      "Requirement already satisfied: docutils<0.16,>=0.10 in /Users/i845622/Library/Python/3.7/lib/python/site-packages (from botocore<1.14.0,>=1.13.2->boto3->transformers) (0.14)\n",
      "Requirement already satisfied: python-dateutil<3.0.0,>=2.1; python_version >= \"2.7\" in /usr/local/lib/python3.7/site-packages (from botocore<1.14.0,>=1.13.2->boto3->transformers) (2.8.0)\n"
     ]
    }
   ],
   "source": [
    "!python3 -m pip install git+https://github.com/huggingface/transformers@d6de6423#egg=transformers"
   ]
  },
  {
   "cell_type": "code",
   "execution_count": 4,
   "metadata": {
    "collapsed": true
   },
   "outputs": [
    {
     "name": "stdout",
     "output_type": "stream",
     "text": [
      "Collecting git+https://github.com/huggingface/transformers@d6de6423\n",
      "  Cloning https://github.com/huggingface/transformers (to revision d6de6423) to /private/var/folders/bw/3f83mhp12w1f6_cz2rzf_p940000gn/T/pip-req-build-5y4wy39w\n",
      "  Running command git clone -q https://github.com/huggingface/transformers /private/var/folders/bw/3f83mhp12w1f6_cz2rzf_p940000gn/T/pip-req-build-5y4wy39w\n",
      "\u001b[33m  WARNING: Did not find branch or tag 'd6de6423', assuming revision or ref.\u001b[0m\n",
      "  Running command git checkout -q d6de6423\n",
      "Requirement already satisfied: numpy in /usr/local/lib/python3.7/site-packages (from transformers==2.5.1) (1.17.2)\n",
      "Requirement already satisfied: tokenizers==0.5.2 in /usr/local/lib/python3.7/site-packages (from transformers==2.5.1) (0.5.2)\n",
      "Requirement already satisfied: boto3 in /usr/local/lib/python3.7/site-packages (from transformers==2.5.1) (1.10.2)\n",
      "Requirement already satisfied: filelock in /usr/local/lib/python3.7/site-packages (from transformers==2.5.1) (3.0.12)\n",
      "Requirement already satisfied: requests in /usr/local/lib/python3.7/site-packages (from transformers==2.5.1) (2.21.0)\n",
      "Requirement already satisfied: tqdm>=4.27 in /usr/local/lib/python3.7/site-packages (from transformers==2.5.1) (4.36.1)\n",
      "Collecting regex!=2019.12.17 (from transformers==2.5.1)\n",
      "  Using cached https://files.pythonhosted.org/packages/e8/76/8ac7f467617b9cfbafcef3c76df6f22b15de654a62bea719792b00a83195/regex-2020.2.20.tar.gz\n",
      "Requirement already satisfied: sentencepiece in /usr/local/lib/python3.7/site-packages (from transformers==2.5.1) (0.1.85)\n",
      "Collecting sacremoses (from transformers==2.5.1)\n",
      "Collecting botocore<1.14.0,>=1.13.2 (from boto3->transformers==2.5.1)\n",
      "  Using cached https://files.pythonhosted.org/packages/24/2d/47bc2f26b9f014998ad5c6ed844424a69f8ea77d26dab22a4e2ddbff20d4/botocore-1.13.50-py2.py3-none-any.whl\n",
      "Requirement already satisfied: s3transfer<0.3.0,>=0.2.0 in /usr/local/lib/python3.7/site-packages (from boto3->transformers==2.5.1) (0.2.1)\n",
      "Requirement already satisfied: jmespath<1.0.0,>=0.7.1 in /Users/i845622/Library/Python/3.7/lib/python/site-packages (from boto3->transformers==2.5.1) (0.9.3)\n",
      "Requirement already satisfied: urllib3<1.25,>=1.21.1 in /usr/local/lib/python3.7/site-packages (from requests->transformers==2.5.1) (1.24.3)\n",
      "Requirement already satisfied: certifi>=2017.4.17 in /usr/local/lib/python3.7/site-packages (from requests->transformers==2.5.1) (2019.9.11)\n",
      "Requirement already satisfied: idna<2.9,>=2.5 in /Users/i845622/Library/Python/3.7/lib/python/site-packages (from requests->transformers==2.5.1) (2.8)\n",
      "Requirement already satisfied: chardet<3.1.0,>=3.0.2 in /Users/i845622/Library/Python/3.7/lib/python/site-packages (from requests->transformers==2.5.1) (3.0.4)\n",
      "Requirement already satisfied: click in /usr/local/lib/python3.7/site-packages (from sacremoses->transformers==2.5.1) (7.0)\n",
      "Requirement already satisfied: joblib in /usr/local/lib/python3.7/site-packages (from sacremoses->transformers==2.5.1) (0.14.0)\n",
      "Requirement already satisfied: six in /usr/local/lib/python3.7/site-packages (from sacremoses->transformers==2.5.1) (1.12.0)\n",
      "Requirement already satisfied: docutils<0.16,>=0.10 in /Users/i845622/Library/Python/3.7/lib/python/site-packages (from botocore<1.14.0,>=1.13.2->boto3->transformers==2.5.1) (0.14)\n",
      "Requirement already satisfied: python-dateutil<3.0.0,>=2.1; python_version >= \"2.7\" in /usr/local/lib/python3.7/site-packages (from botocore<1.14.0,>=1.13.2->boto3->transformers==2.5.1) (2.8.0)\n",
      "Building wheels for collected packages: transformers, regex\n",
      "  Building wheel for transformers (setup.py) ... \u001b[?25ldone\n",
      "\u001b[?25h  Created wheel for transformers: filename=transformers-2.5.1-cp37-none-any.whl size=524109 sha256=bde767f640f9a44791651e71295705bafdc1750d8b580c1302c4cd102784eae6\n",
      "  Stored in directory: /private/var/folders/bw/3f83mhp12w1f6_cz2rzf_p940000gn/T/pip-ephem-wheel-cache-b8ccueml/wheels/ac/01/da/ff8d17a0e1e60d812013d54e62f88744540fce885d47f27270\n",
      "  Building wheel for regex (setup.py) ... \u001b[?25ldone\n",
      "\u001b[?25h  Created wheel for regex: filename=regex-2020.2.20-cp37-cp37m-macosx_10_14_x86_64.whl size=292105 sha256=e411ffbcf8c69c79d58c7d8d5e6e380d0ae9d23d07916f2cf36e725ce26a6534\n",
      "  Stored in directory: /Users/i845622/Library/Caches/pip/wheels/22/4a/99/3a20d265a6c7a186cc9903a4d45e29d0c8323c344e307b161e\n",
      "Successfully built transformers regex\n",
      "\u001b[31mERROR: awscli 1.16.20 has requirement botocore==1.12.10, but you'll have botocore 1.13.50 which is incompatible.\u001b[0m\n",
      "\u001b[31mERROR: awscli 1.16.20 has requirement s3transfer<0.2.0,>=0.1.12, but you'll have s3transfer 0.2.1 which is incompatible.\u001b[0m\n",
      "Installing collected packages: regex, sacremoses, transformers, botocore\n",
      "  Found existing installation: botocore 1.12.10\n",
      "    Uninstalling botocore-1.12.10:\n",
      "      Successfully uninstalled botocore-1.12.10\n",
      "Successfully installed botocore-1.13.50 regex-2020.2.20 sacremoses-0.0.38 transformers-2.5.1\n"
     ]
    }
   ],
   "source": [
    "!python3 -m pip install git+https://github.com/huggingface/transformers@d6de6423"
   ]
  },
  {
   "cell_type": "code",
   "execution_count": 5,
   "metadata": {},
   "outputs": [
    {
     "name": "stdout",
     "output_type": "stream",
     "text": [
      "Requirement already satisfied: torch in /usr/local/lib/python3.7/site-packages (1.4.0)\n",
      "Collecting torchvision\n",
      "\u001b[?25l  Downloading https://files.pythonhosted.org/packages/02/c8/26ff0db66e6dd30a3ed2bfbceae9744359ae4cbb48864c70121a41c21ca5/torchvision-0.5.0-cp37-cp37m-macosx_10_9_x86_64.whl (438kB)\n",
      "\u001b[K     |████████████████████████████████| 440kB 1.1MB/s eta 0:00:01\n",
      "\u001b[?25hRequirement already satisfied: numpy in /usr/local/lib/python3.7/site-packages (from torchvision) (1.17.2)\n",
      "Requirement already satisfied: six in /usr/local/lib/python3.7/site-packages (from torchvision) (1.12.0)\n",
      "Requirement already satisfied: pillow>=4.1.1 in /usr/local/lib/python3.7/site-packages (from torchvision) (6.1.0)\n",
      "Installing collected packages: torchvision\n",
      "Successfully installed torchvision-0.5.0\n"
     ]
    }
   ],
   "source": [
    "!python3 -m pip install torch torchvision"
   ]
  },
  {
   "cell_type": "code",
   "execution_count": 6,
   "metadata": {
    "collapsed": true
   },
   "outputs": [
    {
     "name": "stderr",
     "output_type": "stream",
     "text": [
      "I0323 22:19:49.588355 4561022400 file_utils.py:41] PyTorch version 1.4.0 available.\n",
      "/usr/local/lib/python3.7/site-packages/tensorflow/python/framework/dtypes.py:516: FutureWarning: Passing (type, 1) or '1type' as a synonym of type is deprecated; in a future version of numpy, it will be understood as (type, (1,)) / '(1,)type'.\n",
      "  _np_qint8 = np.dtype([(\"qint8\", np.int8, 1)])\n",
      "/usr/local/lib/python3.7/site-packages/tensorflow/python/framework/dtypes.py:517: FutureWarning: Passing (type, 1) or '1type' as a synonym of type is deprecated; in a future version of numpy, it will be understood as (type, (1,)) / '(1,)type'.\n",
      "  _np_quint8 = np.dtype([(\"quint8\", np.uint8, 1)])\n",
      "/usr/local/lib/python3.7/site-packages/tensorflow/python/framework/dtypes.py:518: FutureWarning: Passing (type, 1) or '1type' as a synonym of type is deprecated; in a future version of numpy, it will be understood as (type, (1,)) / '(1,)type'.\n",
      "  _np_qint16 = np.dtype([(\"qint16\", np.int16, 1)])\n",
      "/usr/local/lib/python3.7/site-packages/tensorflow/python/framework/dtypes.py:519: FutureWarning: Passing (type, 1) or '1type' as a synonym of type is deprecated; in a future version of numpy, it will be understood as (type, (1,)) / '(1,)type'.\n",
      "  _np_quint16 = np.dtype([(\"quint16\", np.uint16, 1)])\n",
      "/usr/local/lib/python3.7/site-packages/tensorflow/python/framework/dtypes.py:520: FutureWarning: Passing (type, 1) or '1type' as a synonym of type is deprecated; in a future version of numpy, it will be understood as (type, (1,)) / '(1,)type'.\n",
      "  _np_qint32 = np.dtype([(\"qint32\", np.int32, 1)])\n",
      "/usr/local/lib/python3.7/site-packages/tensorflow/python/framework/dtypes.py:525: FutureWarning: Passing (type, 1) or '1type' as a synonym of type is deprecated; in a future version of numpy, it will be understood as (type, (1,)) / '(1,)type'.\n",
      "  np_resource = np.dtype([(\"resource\", np.ubyte, 1)])\n",
      "/usr/local/lib/python3.7/site-packages/tensorboard/compat/tensorflow_stub/dtypes.py:541: FutureWarning: Passing (type, 1) or '1type' as a synonym of type is deprecated; in a future version of numpy, it will be understood as (type, (1,)) / '(1,)type'.\n",
      "  _np_qint8 = np.dtype([(\"qint8\", np.int8, 1)])\n",
      "/usr/local/lib/python3.7/site-packages/tensorboard/compat/tensorflow_stub/dtypes.py:542: FutureWarning: Passing (type, 1) or '1type' as a synonym of type is deprecated; in a future version of numpy, it will be understood as (type, (1,)) / '(1,)type'.\n",
      "  _np_quint8 = np.dtype([(\"quint8\", np.uint8, 1)])\n",
      "/usr/local/lib/python3.7/site-packages/tensorboard/compat/tensorflow_stub/dtypes.py:543: FutureWarning: Passing (type, 1) or '1type' as a synonym of type is deprecated; in a future version of numpy, it will be understood as (type, (1,)) / '(1,)type'.\n",
      "  _np_qint16 = np.dtype([(\"qint16\", np.int16, 1)])\n",
      "/usr/local/lib/python3.7/site-packages/tensorboard/compat/tensorflow_stub/dtypes.py:544: FutureWarning: Passing (type, 1) or '1type' as a synonym of type is deprecated; in a future version of numpy, it will be understood as (type, (1,)) / '(1,)type'.\n",
      "  _np_quint16 = np.dtype([(\"quint16\", np.uint16, 1)])\n",
      "/usr/local/lib/python3.7/site-packages/tensorboard/compat/tensorflow_stub/dtypes.py:545: FutureWarning: Passing (type, 1) or '1type' as a synonym of type is deprecated; in a future version of numpy, it will be understood as (type, (1,)) / '(1,)type'.\n",
      "  _np_qint32 = np.dtype([(\"qint32\", np.int32, 1)])\n",
      "/usr/local/lib/python3.7/site-packages/tensorboard/compat/tensorflow_stub/dtypes.py:550: FutureWarning: Passing (type, 1) or '1type' as a synonym of type is deprecated; in a future version of numpy, it will be understood as (type, (1,)) / '(1,)type'.\n",
      "  np_resource = np.dtype([(\"resource\", np.ubyte, 1)])\n"
     ]
    }
   ],
   "source": [
    "import torch\n",
    "import transformers\n",
    "from transformers import BartTokenizer, BartForConditionalGeneration"
   ]
  },
  {
   "cell_type": "code",
   "execution_count": 7,
   "metadata": {},
   "outputs": [],
   "source": [
    "article = '''\n",
    "A Phoenix-area man is dead and his wife is under critical care after the two took chloroquine phosphate in an apparent attempt to self-medicate for the novel coronavirus, according to hospital system Banner Health.\n",
    "\n",
    "Chloroquine has been touted by President Donald Trump as a possible treatment for Covid-19, but it's also \"an additive commonly used at aquariums to clean fish tanks,\" Banner Health said in a statement. Chloroquine is approved by the Food and Drug Administration for treating malaria, lupus and rheumatoid arthritis. But the FDA has not approved it to treat the coronavirus.\n",
    "Banner Health experts emphasized that the medication -- as well as other \"inappropriate medications and household products\" -- \"should not be ingested to treat or prevent this virus.\"\n",
    "\"Given the uncertainty around COVID-19, we understand that people are trying to find new ways to prevent or treat this virus,\" Dr. Daniel Brooks, Banner Poison and Drug Information Center medical director, said in the statement. \"But self-medicating is not the way to do so.\"\n",
    "Banner Health, which is based in Arizona, didn't give any details on how the couple, both in their 60s, acquired the chloroquine or which Banner hospital treated them.\n",
    "However, according to the statement, \"within thirty minutes of ingestion, the couple experienced immediate effects requiring admittance to a nearby Banner Health hospital.\"\n",
    "Chloroquine and hydroxychloroquine: what to know about the potential coronavirus drugs\n",
    "Chloroquine and hydroxychloroquine: what to know about the potential coronavirus drugs\n",
    "Trump has called chloroquine, and the closely-related hydroxychloroquine, potential game changers in the fight against Covid-19.\n",
    "\"HYDROXYCHLOROQUINE & AZITHROMYCIN, taken together, have a real chance to be one of the biggest game changers in the history of medicine,\" he tweeted Saturday.\n",
    "Some early research suggests the drug could be useful against the virus. However, Trump's comments have prompted health officials to warn that further study is needed.\n",
    "Dr. Anthony Fauci, the nation's top infectious disease expert, has said the drugs may be effective against the novel coronavirus. However, he told CBS' Margaret Brennan on Sunday that Trump had heard about the hydroxychloroquine and azithromycin combination's effectiveness from anecdotal reports.\n",
    "\"I...have said I'm not disagreeing with the fact anecdotally they might work, but my job is to prove definitively from a scientific standpoint that they do work,\" Fauci, who serves on the White House coronavirus task force, said.\n",
    "Your coronavirus questions answered\n",
    "In Nigeria, health officials issued a warning about chloroquine, saying three people in the country have overdosed on the drug after Trump endorsed it as a potential treatment.\n",
    "Banner Health said it is \"strongly urging\" health care providers not to prescribe chloroquine to patients who aren't hospitalized.\n",
    "\"The last thing that we want right now is to inundate our emergency departments with patients who believe they found a vague and risky solution that could potentially jeopardize their health,\" Brooks said.\n",
    "'''.replace('\\n','')"
   ]
  },
  {
   "cell_type": "code",
   "execution_count": 8,
   "metadata": {},
   "outputs": [
    {
     "data": {
      "text/plain": [
       "False"
      ]
     },
     "execution_count": 8,
     "metadata": {},
     "output_type": "execute_result"
    }
   ],
   "source": [
    "torch.cuda.is_available()"
   ]
  },
  {
   "cell_type": "code",
   "execution_count": 9,
   "metadata": {},
   "outputs": [],
   "source": [
    "torch_device = 'cuda' if torch.cuda.is_available() else 'cpu'"
   ]
  },
  {
   "cell_type": "code",
   "execution_count": null,
   "metadata": {},
   "outputs": [
    {
     "name": "stderr",
     "output_type": "stream",
     "text": [
      "I0323 22:20:54.349872 4561022400 filelock.py:274] Lock 5411248400 acquired on /Users/i845622/.cache/torch/transformers/1ae1f5b6e2b22b25ccc04c000bb79ca847aa226d0761536b011cf7e5868f0655.ef00af9e673c7160b4d41cfda1f48c5f4cba57d5142754525572a846a1ab1b9b.lock\n",
      "I0323 22:20:54.353257 4561022400 file_utils.py:479] https://s3.amazonaws.com/models.huggingface.co/bert/roberta-large-vocab.json not found in cache or force_download set to True, downloading to /Users/i845622/.cache/torch/transformers/tmp2om84t7e\n"
     ]
    },
    {
     "data": {
      "application/vnd.jupyter.widget-view+json": {
       "model_id": "88d917c013d44bff8373d1b4128af6e9",
       "version_major": 2,
       "version_minor": 0
      },
      "text/plain": [
       "HBox(children=(IntProgress(value=0, description='Downloading', max=898823, style=ProgressStyle(description_wid…"
      ]
     },
     "metadata": {},
     "output_type": "display_data"
    },
    {
     "name": "stderr",
     "output_type": "stream",
     "text": [
      "I0323 22:21:00.116533 4561022400 file_utils.py:489] storing https://s3.amazonaws.com/models.huggingface.co/bert/roberta-large-vocab.json in cache at /Users/i845622/.cache/torch/transformers/1ae1f5b6e2b22b25ccc04c000bb79ca847aa226d0761536b011cf7e5868f0655.ef00af9e673c7160b4d41cfda1f48c5f4cba57d5142754525572a846a1ab1b9b\n",
      "I0323 22:21:00.118340 4561022400 file_utils.py:492] creating metadata file for /Users/i845622/.cache/torch/transformers/1ae1f5b6e2b22b25ccc04c000bb79ca847aa226d0761536b011cf7e5868f0655.ef00af9e673c7160b4d41cfda1f48c5f4cba57d5142754525572a846a1ab1b9b\n",
      "I0323 22:21:00.121285 4561022400 filelock.py:318] Lock 5411248400 released on /Users/i845622/.cache/torch/transformers/1ae1f5b6e2b22b25ccc04c000bb79ca847aa226d0761536b011cf7e5868f0655.ef00af9e673c7160b4d41cfda1f48c5f4cba57d5142754525572a846a1ab1b9b.lock\n"
     ]
    },
    {
     "name": "stdout",
     "output_type": "stream",
     "text": [
      "\n"
     ]
    },
    {
     "name": "stderr",
     "output_type": "stream",
     "text": [
      "I0323 22:21:00.578906 4561022400 filelock.py:274] Lock 4544571088 acquired on /Users/i845622/.cache/torch/transformers/f8f83199a6270d582d6245dc100e99c4155de81c9745c6248077018fe01abcfb.70bec105b4158ed9a1747fea67a43f5dee97855c64d62b6ec3742f4cfdb5feda.lock\n",
      "I0323 22:21:00.581093 4561022400 file_utils.py:479] https://s3.amazonaws.com/models.huggingface.co/bert/roberta-large-merges.txt not found in cache or force_download set to True, downloading to /Users/i845622/.cache/torch/transformers/tmp345qn393\n"
     ]
    },
    {
     "data": {
      "application/vnd.jupyter.widget-view+json": {
       "model_id": "4aeae89f1f7c48d49109f999fbfaef6e",
       "version_major": 2,
       "version_minor": 0
      },
      "text/plain": [
       "HBox(children=(IntProgress(value=0, description='Downloading', max=456318, style=ProgressStyle(description_wid…"
      ]
     },
     "metadata": {},
     "output_type": "display_data"
    },
    {
     "name": "stderr",
     "output_type": "stream",
     "text": [
      "I0323 22:21:06.612054 4561022400 file_utils.py:489] storing https://s3.amazonaws.com/models.huggingface.co/bert/roberta-large-merges.txt in cache at /Users/i845622/.cache/torch/transformers/f8f83199a6270d582d6245dc100e99c4155de81c9745c6248077018fe01abcfb.70bec105b4158ed9a1747fea67a43f5dee97855c64d62b6ec3742f4cfdb5feda\n",
      "I0323 22:21:06.616023 4561022400 file_utils.py:492] creating metadata file for /Users/i845622/.cache/torch/transformers/f8f83199a6270d582d6245dc100e99c4155de81c9745c6248077018fe01abcfb.70bec105b4158ed9a1747fea67a43f5dee97855c64d62b6ec3742f4cfdb5feda\n",
      "I0323 22:21:06.620771 4561022400 filelock.py:318] Lock 4544571088 released on /Users/i845622/.cache/torch/transformers/f8f83199a6270d582d6245dc100e99c4155de81c9745c6248077018fe01abcfb.70bec105b4158ed9a1747fea67a43f5dee97855c64d62b6ec3742f4cfdb5feda.lock\n",
      "I0323 22:21:06.622075 4561022400 tokenization_utils.py:504] loading file https://s3.amazonaws.com/models.huggingface.co/bert/roberta-large-vocab.json from cache at /Users/i845622/.cache/torch/transformers/1ae1f5b6e2b22b25ccc04c000bb79ca847aa226d0761536b011cf7e5868f0655.ef00af9e673c7160b4d41cfda1f48c5f4cba57d5142754525572a846a1ab1b9b\n",
      "I0323 22:21:06.623414 4561022400 tokenization_utils.py:504] loading file https://s3.amazonaws.com/models.huggingface.co/bert/roberta-large-merges.txt from cache at /Users/i845622/.cache/torch/transformers/f8f83199a6270d582d6245dc100e99c4155de81c9745c6248077018fe01abcfb.70bec105b4158ed9a1747fea67a43f5dee97855c64d62b6ec3742f4cfdb5feda\n"
     ]
    },
    {
     "name": "stdout",
     "output_type": "stream",
     "text": [
      "\n"
     ]
    },
    {
     "name": "stderr",
     "output_type": "stream",
     "text": [
      "I0323 22:21:07.357478 4561022400 filelock.py:274] Lock 4544571088 acquired on /Users/i845622/.cache/torch/transformers/5f0de1d2bbb8eb1a3b69656622293b3328b06b701663a9d4109359751cb4e739.b7c980a900912298a65cade19ef53c3703afae8bc321e50df819bdf8bf4a910a.lock\n",
      "I0323 22:21:07.359287 4561022400 file_utils.py:479] https://s3.amazonaws.com/models.huggingface.co/bert/facebook/bart-large-cnn/config.json not found in cache or force_download set to True, downloading to /Users/i845622/.cache/torch/transformers/tmpra_3ungk\n"
     ]
    },
    {
     "data": {
      "application/vnd.jupyter.widget-view+json": {
       "model_id": "479e26dc81fb4b48a84bb30540060249",
       "version_major": 2,
       "version_minor": 0
      },
      "text/plain": [
       "HBox(children=(IntProgress(value=0, description='Downloading', max=1257, style=ProgressStyle(description_width…"
      ]
     },
     "metadata": {},
     "output_type": "display_data"
    },
    {
     "name": "stderr",
     "output_type": "stream",
     "text": [
      "I0323 22:21:08.135098 4561022400 file_utils.py:489] storing https://s3.amazonaws.com/models.huggingface.co/bert/facebook/bart-large-cnn/config.json in cache at /Users/i845622/.cache/torch/transformers/5f0de1d2bbb8eb1a3b69656622293b3328b06b701663a9d4109359751cb4e739.b7c980a900912298a65cade19ef53c3703afae8bc321e50df819bdf8bf4a910a\n",
      "I0323 22:21:08.136933 4561022400 file_utils.py:492] creating metadata file for /Users/i845622/.cache/torch/transformers/5f0de1d2bbb8eb1a3b69656622293b3328b06b701663a9d4109359751cb4e739.b7c980a900912298a65cade19ef53c3703afae8bc321e50df819bdf8bf4a910a\n",
      "I0323 22:21:08.138844 4561022400 filelock.py:318] Lock 4544571088 released on /Users/i845622/.cache/torch/transformers/5f0de1d2bbb8eb1a3b69656622293b3328b06b701663a9d4109359751cb4e739.b7c980a900912298a65cade19ef53c3703afae8bc321e50df819bdf8bf4a910a.lock\n",
      "I0323 22:21:08.140571 4561022400 configuration_utils.py:269] loading configuration file https://s3.amazonaws.com/models.huggingface.co/bert/facebook/bart-large-cnn/config.json from cache at /Users/i845622/.cache/torch/transformers/5f0de1d2bbb8eb1a3b69656622293b3328b06b701663a9d4109359751cb4e739.b7c980a900912298a65cade19ef53c3703afae8bc321e50df819bdf8bf4a910a\n",
      "I0323 22:21:08.141920 4561022400 configuration_utils.py:305] Model config BartConfig {\n",
      "  \"_num_labels\": 3,\n",
      "  \"activation_dropout\": 0.0,\n",
      "  \"architectures\": null,\n",
      "  \"attention_dropout\": 0.0,\n",
      "  \"bos_token_id\": 0,\n",
      "  \"classif_dropout\": 0.0,\n",
      "  \"d_model\": 1024,\n",
      "  \"decoder_attention_heads\": 16,\n",
      "  \"decoder_ffn_dim\": 4096,\n",
      "  \"decoder_layerdrop\": 0.0,\n",
      "  \"decoder_layers\": 12,\n",
      "  \"do_sample\": false,\n",
      "  \"dropout\": 0.1,\n",
      "  \"early_stopping\": false,\n",
      "  \"encoder_attention_heads\": 16,\n",
      "  \"encoder_ffn_dim\": 4096,\n",
      "  \"encoder_layerdrop\": 0.0,\n",
      "  \"encoder_layers\": 12,\n",
      "  \"eos_token_id\": 2,\n",
      "  \"eos_token_ids\": [\n",
      "    2\n",
      "  ],\n",
      "  \"finetuning_task\": null,\n",
      "  \"id2label\": {\n",
      "    \"0\": \"LABEL_0\",\n",
      "    \"1\": \"LABEL_1\",\n",
      "    \"2\": \"LABEL_2\"\n",
      "  },\n",
      "  \"init_std\": 0.02,\n",
      "  \"is_decoder\": false,\n",
      "  \"is_encoder_decoder\": true,\n",
      "  \"label2id\": {\n",
      "    \"LABEL_0\": 0,\n",
      "    \"LABEL_1\": 1,\n",
      "    \"LABEL_2\": 2\n",
      "  },\n",
      "  \"length_penalty\": 2.0,\n",
      "  \"max_length\": 20,\n",
      "  \"max_position_embeddings\": 1024,\n",
      "  \"min_length\": 0,\n",
      "  \"model_type\": \"bart\",\n",
      "  \"no_repeat_ngram_size\": 3,\n",
      "  \"num_beams\": 4,\n",
      "  \"num_hidden_layers\": 12,\n",
      "  \"num_return_sequences\": 1,\n",
      "  \"output_attentions\": false,\n",
      "  \"output_hidden_states\": false,\n",
      "  \"output_past\": true,\n",
      "  \"pad_token_id\": 1,\n",
      "  \"pruned_heads\": {},\n",
      "  \"repetition_penalty\": 1.0,\n",
      "  \"temperature\": 1.0,\n",
      "  \"top_k\": 50,\n",
      "  \"top_p\": 1.0,\n",
      "  \"torchscript\": false,\n",
      "  \"use_bfloat16\": false,\n",
      "  \"vocab_size\": 50264\n",
      "}\n",
      "\n"
     ]
    },
    {
     "name": "stdout",
     "output_type": "stream",
     "text": [
      "\n"
     ]
    },
    {
     "name": "stderr",
     "output_type": "stream",
     "text": [
      "I0323 22:21:09.095906 4561022400 filelock.py:274] Lock 4544571088 acquired on /Users/i845622/.cache/torch/transformers/821c6fa2ec26e17b4ddc9f019177b20aedee71faf1797c1c109c1e651cc93819.459313d0ce59423dcd47d2fe35b4c8b3ed22102e7110e1e8a93c39b4baf546a5.lock\n",
      "I0323 22:21:09.097600 4561022400 file_utils.py:479] https://s3.amazonaws.com/models.huggingface.co/bert/facebook/bart-large-cnn/pytorch_model.bin not found in cache or force_download set to True, downloading to /Users/i845622/.cache/torch/transformers/tmpv0cuc4dz\n"
     ]
    },
    {
     "data": {
      "application/vnd.jupyter.widget-view+json": {
       "model_id": "541ab693093b4cb39d31d1e54231e4a9",
       "version_major": 2,
       "version_minor": 0
      },
      "text/plain": [
       "HBox(children=(IntProgress(value=0, description='Downloading', max=1625270915, style=ProgressStyle(description…"
      ]
     },
     "metadata": {},
     "output_type": "display_data"
    }
   ],
   "source": [
    "tokenizer = BartTokenizer.from_pretrained('bart-large-cnn')\n",
    "model = BartForConditionalGeneration.from_pretrained('bart-large-cnn')"
   ]
  },
  {
   "cell_type": "code",
   "execution_count": null,
   "metadata": {},
   "outputs": [],
   "source": []
  }
 ],
 "metadata": {
  "kernelspec": {
   "display_name": "Python 3",
   "language": "python",
   "name": "python3"
  },
  "language_info": {
   "codemirror_mode": {
    "name": "ipython",
    "version": 3
   },
   "file_extension": ".py",
   "mimetype": "text/x-python",
   "name": "python",
   "nbconvert_exporter": "python",
   "pygments_lexer": "ipython3",
   "version": "3.7.4"
  }
 },
 "nbformat": 4,
 "nbformat_minor": 2
}
